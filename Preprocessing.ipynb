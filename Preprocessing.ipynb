{
 "cells": [
  {
   "cell_type": "code",
   "execution_count": 1,
   "metadata": {},
   "outputs": [],
   "source": [
    "import os \n",
    "import cv2\n",
    "import sys\n",
    "import json\n",
    "\n",
    "import numpy as np\n",
    "import skimage.io as io\n",
    "\n",
    "from skimage.draw import polygon\n",
    "from skimage import img_as_float"
   ]
  },
  {
   "cell_type": "code",
   "execution_count": 2,
   "metadata": {},
   "outputs": [],
   "source": [
    "root = './anue/'"
   ]
  },
  {
   "cell_type": "markdown",
   "metadata": {},
   "source": [
    "# Get all labels in the dataset as a dictionary"
   ]
  },
  {
   "cell_type": "code",
   "execution_count": 3,
   "metadata": {},
   "outputs": [],
   "source": [
    "def get_all_labels(root):\n",
    "    labels = []\n",
    "    final_labels = {}\n",
    "    \n",
    "    img_folder, segmap_folder = os.listdir(root)\n",
    "    \n",
    "#     sub_path_train_img = os.path.join(root, img_folder, './train')\n",
    "    sub_path_train_seg = os.path.join(root, segmap_folder, './train')\n",
    "\n",
    "#     sub_path_val_img = os.path.join(root, img_folder, './val')\n",
    "    sub_path_val_seg = os.path.join(root, segmap_folder, './val')\n",
    "    \n",
    "    # extract training labels\n",
    "    for folder in os.listdir(sub_path_train_seg):\n",
    "#         curr_img_folder = os.path.join(sub_path_train_img, folder)\n",
    "        curr_seg_folder = os.path.join(sub_path_train_seg, folder)\n",
    "        for file in os.listdir(curr_seg_folder):\n",
    "            if 'json' not in file:\n",
    "                continue\n",
    "            f = open(os.path.join(curr_seg_folder, file), 'r')\n",
    "            data = json.loads(f.read())\n",
    "            for obj in data['objects']:\n",
    "                if obj['label'] not in labels:\n",
    "                    labels.append(obj['label'])\n",
    "\n",
    "    # extract validation labels\n",
    "    for folder in os.listdir(sub_path_val_seg):\n",
    "#         curr_img_folder = os.path.join(sub_path_val_img, folder)\n",
    "        curr_seg_folder = os.path.join(sub_path_val_seg, folder)\n",
    "        for file in os.listdir(curr_seg_folder):\n",
    "            if 'json' not in file:\n",
    "                continue\n",
    "            f = open(os.path.join(curr_seg_folder, file), 'r')\n",
    "            data = json.loads(f.read())\n",
    "            for obj in data['objects']:\n",
    "                if obj['label'] not in labels:\n",
    "                    labels.append(obj['label'])\n",
    "                    \n",
    "    for i in range(len(labels)):\n",
    "        final_labels[labels[i]] = i\n",
    "    return final_labels"
   ]
  },
  {
   "cell_type": "code",
   "execution_count": null,
   "metadata": {},
   "outputs": [],
   "source": [
    "labels = get_all_labels(root)"
   ]
  },
  {
   "cell_type": "code",
   "execution_count": null,
   "metadata": {},
   "outputs": [],
   "source": [
    "labels"
   ]
  },
  {
   "cell_type": "markdown",
   "metadata": {},
   "source": [
    "# Generate Segmentation Maps"
   ]
  },
  {
   "cell_type": "code",
   "execution_count": null,
   "metadata": {},
   "outputs": [],
   "source": [
    "def create_segmentation_maps(root, labels):\n",
    "    img_folder, segmap_folder = os.listdir(root)\n",
    "    \n",
    "    if not os.path.exists('./img'):\n",
    "        os.makedirs('img')\n",
    "    if not os.path.exists('./img/train'):\n",
    "        os.makedirs('img/train')\n",
    "    if not os.path.exists('./img/val'):\n",
    "        os.makedirs('img/val')\n",
    "\n",
    "    if not os.path.exists('./seg'):\n",
    "        os.makedirs('seg')\n",
    "    if not os.path.exists('./seg/train'):\n",
    "        os.makedirs('seg/train')\n",
    "    if not os.path.exists('./seg/val'):\n",
    "        os.makedirs('seg/val')\n",
    "    \n",
    "    sub_path_train_img = os.path.join(root, img_folder, './train')\n",
    "    sub_path_train_seg = os.path.join(root, segmap_folder, './train')\n",
    "\n",
    "    sub_path_val_img = os.path.join(root, img_folder, './val')\n",
    "    sub_path_val_seg = os.path.join(root, segmap_folder, './val')\n",
    "    \n",
    "    for folder in os.listdir(sub_path_train_seg):\n",
    "        curr_img_folder = os.path.join(sub_path_train_img, folder)\n",
    "        curr_seg_folder = os.path.join(sub_path_train_seg, folder)\n",
    "        \n",
    "        for file in os.listdir(curr_img_folder):\n",
    "            id = file.split('_')[0]\n",
    "            img = cv2.imread(os.path.join(curr_img_folder, file))\n",
    "            \n",
    "            f = open(os.path.join(curr_seg_folder, id+'_gtFine_polygons.json'), 'r')\n",
    "            data = json.loads(f.read())\n",
    "            seg_map = np.zeros((data['imgWidth'],data['imgHeight']))\n",
    "            for obj in data['objects']:\n",
    "                label = obj['label']\n",
    "                poly = np.array(obj['polygon'])\n",
    "                rr, cc = polygon(poly[:,0], poly[:,1], seg_map.shape)\n",
    "                seg_map[rr,cc] = labels[label]\n",
    "                \n",
    "            cv2.imwrite('./img/train/'+id+'.png', img)\n",
    "            cv2.imwrite('./seg/train/'+id+'.png', seg_map.T)\n",
    "            \n",
    "    for folder in os.listdir(sub_path_val_seg):\n",
    "        curr_img_folder = os.path.join(sub_path_val_img, folder)\n",
    "        curr_seg_folder = os.path.join(sub_path_val_seg, folder)\n",
    "        \n",
    "        for file in os.listdir(curr_img_folder):\n",
    "            id = file.split('_')[0]\n",
    "            img = cv2.imread(os.path.join(curr_img_folder, file))\n",
    "            \n",
    "            f = open(os.path.join(curr_seg_folder, id+'_gtFine_polygons.json'), 'r')\n",
    "            data = json.loads(f.read())\n",
    "            seg_map = np.zeros((data['imgWidth'],data['imgHeight']), np.uint8)\n",
    "            for obj in data['objects']:\n",
    "                label = obj['label']\n",
    "                poly = np.array(obj['polygon'])\n",
    "                rr, cc = polygon(poly[:,0], poly[:,1], seg_map.shape)\n",
    "                seg_map[rr,cc] = labels[label]\n",
    "                \n",
    "            cv2.imwrite('./img/val/'+id+'.png', img)\n",
    "            cv2.imwrite('./seg/val/'+id+'.png', seg_map.T)"
   ]
  },
  {
   "cell_type": "code",
   "execution_count": null,
   "metadata": {},
   "outputs": [],
   "source": [
    "create_segmentation_maps(root, labels)"
   ]
  },
  {
   "cell_type": "markdown",
   "metadata": {},
   "source": [
    "# Create Subset"
   ]
  },
  {
   "cell_type": "code",
   "execution_count": 4,
   "metadata": {},
   "outputs": [],
   "source": [
    "np.random.seed(42)"
   ]
  },
  {
   "cell_type": "code",
   "execution_count": 9,
   "metadata": {},
   "outputs": [],
   "source": [
    "train_subset_size, val_subset_size = 1000, 100"
   ]
  },
  {
   "cell_type": "code",
   "execution_count": 10,
   "metadata": {},
   "outputs": [],
   "source": [
    "train_img_path, train_seg_path = './img/train/', './seg/train/'\n",
    "val_img_path, val_seg_path = './img/val/', './seg/val/'"
   ]
  },
  {
   "cell_type": "code",
   "execution_count": 11,
   "metadata": {},
   "outputs": [],
   "source": [
    "train_random_indices = np.random.permutation(len(os.listdir(train_img_path)))[:train_subset_size]\n",
    "val_random_indices = np.random.permutation(len(os.listdir(val_img_path)))[:val_subset_size]"
   ]
  },
  {
   "cell_type": "code",
   "execution_count": 12,
   "metadata": {},
   "outputs": [],
   "source": [
    "if not os.path.exists('./img/subset_train'):\n",
    "    os.makedirs('img/subset_train')\n",
    "if not os.path.exists('./img/subset_val'):\n",
    "    os.makedirs('img/subset_val')\n",
    "\n",
    "if not os.path.exists('./seg/subset_train'):\n",
    "    os.makedirs('seg/subset_train')\n",
    "if not os.path.exists('./seg/subset_val'):\n",
    "    os.makedirs('seg/subset_val')"
   ]
  },
  {
   "cell_type": "code",
   "execution_count": 13,
   "metadata": {},
   "outputs": [],
   "source": [
    "train_img_list, train_seg_list = os.listdir(train_img_path), os.listdir(train_seg_path)\n",
    "for i in train_random_indices:\n",
    "    img = cv2.imread(os.path.join(train_img_path, train_img_list[i]))\n",
    "    seg = cv2.imread(os.path.join(train_seg_path, train_seg_list[i]))\n",
    "    \n",
    "    cv2.imwrite('./img/subset_train/'+str(i)+'.png', img)\n",
    "    cv2.imwrite('./seg/subset_train/'+str(i)+'.png', seg)"
   ]
  },
  {
   "cell_type": "code",
   "execution_count": 14,
   "metadata": {},
   "outputs": [],
   "source": [
    "val_img_list, val_seg_list = os.listdir(val_img_path), os.listdir(val_seg_path)\n",
    "for i in val_random_indices:\n",
    "    img = cv2.imread(os.path.join(val_img_path, val_img_list[i]))\n",
    "    seg = cv2.imread(os.path.join(val_seg_path, val_img_list[i]))\n",
    "    \n",
    "    cv2.imwrite('./img/subset_val/'+str(i)+'.png', img)\n",
    "    cv2.imwrite('./seg/subset_val/'+str(i)+'.png', seg)   "
   ]
  }
 ],
 "metadata": {
  "kernelspec": {
   "display_name": "Python 3",
   "language": "python",
   "name": "python3"
  },
  "language_info": {
   "codemirror_mode": {
    "name": "ipython",
    "version": 3
   },
   "file_extension": ".py",
   "mimetype": "text/x-python",
   "name": "python",
   "nbconvert_exporter": "python",
   "pygments_lexer": "ipython3",
   "version": "3.7.7"
  }
 },
 "nbformat": 4,
 "nbformat_minor": 4
}
